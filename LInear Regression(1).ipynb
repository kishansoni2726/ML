{
 "cells": [
  {
   "cell_type": "code",
   "execution_count": 1,
   "id": "67694f42",
   "metadata": {},
   "outputs": [],
   "source": [
    "import numpy as np\n",
    "import matplotlib.pyplot as plt"
   ]
  },
  {
   "cell_type": "code",
   "execution_count": 5,
   "id": "b4e51357",
   "metadata": {},
   "outputs": [],
   "source": [
    "x = np.array([0.150,0.100,0.098,0.079,0.050,0.040,0.039,0.032,0.020,0.016,0.010,0.005])\n",
    "y = np.array([3.81, 2.54, 2.5, 2.0, 1.27, 1.02,1.00, 0.8, 0.5, 0.4, 0.25, 0.13])\n",
    "\n"
   ]
  },
  {
   "cell_type": "code",
   "execution_count": 6,
   "id": "b2028f2b",
   "metadata": {},
   "outputs": [
    {
     "data": {
      "text/plain": [
       "<matplotlib.collections.PathCollection at 0x1f5413c4b50>"
      ]
     },
     "execution_count": 6,
     "metadata": {},
     "output_type": "execute_result"
    },
    {
     "data": {
      "image/png": "[encoded data removed]",
      "text/plain": [
       "<Figure size 432x288 with 1 Axes>"
      ]
     },
     "metadata": {
      "needs_background": "light"
     },
     "output_type": "display_data"
    }
   ],
   "source": [
    "plt.scatter(x,y)"
   ]
  },
  {
   "cell_type": "code",
   "execution_count": null,
   "id": "07eab427",
   "metadata": {},
   "outputs": [],
   "source": []
  },
  {
   "cell_type": "code",
   "execution_count": null,
   "id": "f08838bf",
   "metadata": {},
   "outputs": [],
   "source": []
  },
  {
   "cell_type": "code",
   "execution_count": 7,
   "id": "8c197da6",
   "metadata": {},
   "outputs": [],
   "source": [
    "# Simple Linear regression using matrix inversion method (theta = inverse(A).B)\n",
    "A = np.array([[len(x) , np.sum(x)],[np.sum(x) , np.sum(np.square(x))]])\n",
    "B = np.array([[np.sum(y)],[np.sum(np.dot(x,y))]])"
   ]
  },
  {
   "cell_type": "code",
   "execution_count": 8,
   "id": "395300a3",
   "metadata": {},
   "outputs": [],
   "source": [
    "theta = np.dot(np.linalg.inv(A),B)"
   ]
  },
  {
   "cell_type": "code",
   "execution_count": 9,
   "id": "5463ff04",
   "metadata": {},
   "outputs": [
    {
     "data": {
      "text/plain": [
       "array([[-3.16340335e-03],\n",
       "       [ 2.54428182e+01]])"
      ]
     },
     "execution_count": 9,
     "metadata": {},
     "output_type": "execute_result"
    }
   ],
   "source": [
    "theta"
   ]
  },
  {
   "cell_type": "code",
   "execution_count": 10,
   "id": "472901c9",
   "metadata": {},
   "outputs": [
    {
     "data": {
      "image/png": "[encoded data removed]",
      "text/plain": [
       "<Figure size 432x288 with 1 Axes>"
      ]
     },
     "metadata": {
      "needs_background": "light"
     },
     "output_type": "display_data"
    }
   ],
   "source": [
    "line = theta[1]*x + theta[0]\n",
    "plt.scatter(x,y)\n",
    "plt.plot(x,line,'k--',lw=4)\n",
    "plt.show()"
   ]
  },
  {
   "cell_type": "code",
   "execution_count": 12,
   "id": "5bb27973",
   "metadata": {},
   "outputs": [],
   "source": [
    "## Gradient Descent ##"
   ]
  },
  {
   "cell_type": "code",
   "execution_count": 11,
   "id": "feab1b8a",
   "metadata": {},
   "outputs": [],
   "source": [
    "# Adding a row of ones as additional feature, along with other features. \n",
    "# These ones will get mutiplied to bias value that is c or theta_0\n",
    "\n",
    "# Reshaping the arrays\n",
    "x = x.reshape(12,1)\n",
    "y = y.reshape(12,1)\n",
    "\n",
    "x = np.append(np.ones((len(x),1)),x,axis=1)"
   ]
  },
  {
   "cell_type": "code",
   "execution_count": 12,
   "id": "3c29d422",
   "metadata": {},
   "outputs": [
    {
     "data": {
      "text/plain": [
       "array([[1.   , 0.15 ],\n",
       "       [1.   , 0.1  ],\n",
       "       [1.   , 0.098],\n",
       "       [1.   , 0.079],\n",
       "       [1.   , 0.05 ],\n",
       "       [1.   , 0.04 ],\n",
       "       [1.   , 0.039],\n",
       "       [1.   , 0.032],\n",
       "       [1.   , 0.02 ],\n",
       "       [1.   , 0.016],\n",
       "       [1.   , 0.01 ],\n",
       "       [1.   , 0.005]])"
      ]
     },
     "execution_count": 12,
     "metadata": {},
     "output_type": "execute_result"
    }
   ],
   "source": [
    "x"
   ]
  },
  {
   "cell_type": "code",
   "execution_count": 13,
   "id": "84f15bc8",
   "metadata": {},
   "outputs": [],
   "source": [
    "# In gradient descent we minimize the cost to find the values of parameters.\n",
    "# defining a cost function\n",
    "\n",
    "def costFunction(X,Y,Theta):\n",
    "    J = (1/(2*len(X)))*(np.sum(((np.dot(X,Theta))-Y)**2))\n",
    "    return J"
   ]
  },
  {
   "cell_type": "code",
   "execution_count": 14,
   "id": "63d9bdeb",
   "metadata": {},
   "outputs": [],
   "source": [
    "# Initializing some values before implementing the Gradient descent algorithm\n",
    "\n",
    "alpha = 0.1\n",
    "stopping_criteria = 1e-6\n",
    "\n",
    "# Empty list for storing value of cost function at each iteration with the newly calculated papameters\n",
    "\n",
    "cost=[]"
   ]
  },
  {
   "cell_type": "code",
   "execution_count": 15,
   "id": "05bf2cd3",
   "metadata": {},
   "outputs": [],
   "source": [
    "# Gradient Descent algo\n",
    "\n",
    "def gradientDescent(X,Y,Theta,alpha,stop_criteria):\n",
    "    # Calculating the cost value with initialized values of parameters\n",
    "    c = costFunction(X,Y,Theta)\n",
    "    # Finding new theta values till the change in cost function is less than decided stopping criteria\n",
    "    while True:\n",
    "        Theta = Theta - (alpha/len(x))*(np.dot(np.transpose(X),((np.dot(X,Theta))-Y)))\n",
    "        # In the above line represents the hypothesis function or we can say predicted values,\n",
    "        # ((np.dot(X,Theta))-Y) this represents the difference in predicted and actual values\n",
    "        # (np.dot(np.transpose(X),((np.dot(X,Theta))-Y))) here np.transpose(X) is the matrix that was to be multiplied in the end\n",
    "        # but here to calculate the dot product and match the dimensions it is written before hand\n",
    "        \n",
    "        # Calculating cost values with newly calculated theta\n",
    "        new_cost = costFunction(X,Y,Theta)\n",
    "        # Storing the cost value in pre-initialized list\n",
    "        cost.append(new_cost)\n",
    "        # Repeating the steps until the change in cost value is less than decided stopping criteria\n",
    "        if (abs(new_cost-c)<=(stopping_criteria)):\n",
    "            break\n",
    "        # update the value of c with new cost for comparing in the next iteration\n",
    "        c = new_cost\n",
    "    # Finally return the values of calculated parameters (theta)\n",
    "    return Theta"
   ]
  },
  {
   "cell_type": "code",
   "execution_count": 16,
   "id": "8efa9d46",
   "metadata": {},
   "outputs": [],
   "source": [
    "# Initializing values of parameters with 0\n",
    "theta = np.zeros((2,1))"
   ]
  },
  {
   "cell_type": "code",
   "execution_count": 17,
   "id": "8dd7ace9",
   "metadata": {},
   "outputs": [],
   "source": [
    "# Now updating the values of theta using gradient descent\n",
    "theta = gradientDescent(x,y,theta,alpha,stopping_criteria)"
   ]
  },
  {
   "cell_type": "code",
   "execution_count": 18,
   "id": "08564eeb",
   "metadata": {},
   "outputs": [
    {
     "data": {
      "text/plain": [
       "array([[ 0.09004935],\n",
       "       [23.69550688]])"
      ]
     },
     "execution_count": 18,
     "metadata": {},
     "output_type": "execute_result"
    }
   ],
   "source": [
    "theta"
   ]
  },
  {
   "cell_type": "code",
   "execution_count": 19,
   "id": "d00c64dd",
   "metadata": {},
   "outputs": [
    {
     "data": {
      "text/plain": [
       "Text(0, 0.5, 'Loss')"
      ]
     },
     "execution_count": 19,
     "metadata": {},
     "output_type": "execute_result"
    },
    {
     "data": {
      "image/png": "[encoded data removed]",
      "text/plain": [
       "<Figure size 432x288 with 1 Axes>"
      ]
     },
     "metadata": {
      "needs_background": "light"
     },
     "output_type": "display_data"
    }
   ],
   "source": [
    "plt.plot(cost)\n",
    "plt.xlabel('Iterations')\n",
    "plt.ylabel('Loss')"
   ]
  },
  {
   "cell_type": "code",
   "execution_count": 20,
   "id": "8fe340e5",
   "metadata": {},
   "outputs": [
    {
     "data": {
      "image/png": "[encoded data removed]",
      "text/plain": [
       "<Figure size 432x288 with 1 Axes>"
      ]
     },
     "metadata": {
      "needs_background": "light"
     },
     "output_type": "display_data"
    }
   ],
   "source": [
    "line = theta[1]*x[:,1] + theta[0]  # Here x[:,1] considers 2 column of x because first column contains the extra added ones\n",
    "plt.scatter(x[:,1],y)\n",
    "plt.plot(x[:,1],line,'k--',lw=4)\n",
    "plt.show()"
   ]
  },
  {
   "cell_type": "code",
   "execution_count": 21,
   "id": "a661d98f",
   "metadata": {},
   "outputs": [
    {
     "data": {
      "text/plain": [
       "array([3.64437538, 2.45960004, 2.41220902, 1.96199439, 1.27482469,\n",
       "       1.03786963, 1.01417412, 0.84830557, 0.56395949, 0.46917746,\n",
       "       0.32700442, 0.20852688])"
      ]
     },
     "execution_count": 21,
     "metadata": {},
     "output_type": "execute_result"
    }
   ],
   "source": [
    "line"
   ]
  },
  {
   "cell_type": "markdown",
   "id": "e5cabaad",
   "metadata": {},
   "source": [
    "**Don't Forget to restart the kernel and clear outputs before you re-run any cell, else you may get dimensionality error** "
   ]
  },
  {
   "cell_type": "markdown",
   "id": "210f2cbe",
   "metadata": {},
   "source": [
    "**You must also add maximum number or iterations as an argument in gradient descent function because in case of over shooting the algorithm may get stuck in infinite loop**"
   ]
  }
 ],
 "metadata": {
  "kernelspec": {
   "display_name": "Python 3 (ipykernel)",
   "language": "python",
   "name": "python3"
  },
  "language_info": {
   "codemirror_mode": {
    "name": "ipython",
    "version": 3
   },
   "file_extension": ".py",
   "mimetype": "text/x-python",
   "name": "python",
   "nbconvert_exporter": "python",
   "pygments_lexer": "ipython3",
   "version": "3.9.9"
  }
 },
 "nbformat": 4,
 "nbformat_minor": 5
}
